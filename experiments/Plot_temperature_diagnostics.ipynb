{
 "cells": [
  {
   "attachments": {},
   "cell_type": "markdown",
   "metadata": {},
   "source": [
    "# Plot temperature diagnostics"
   ]
  },
  {
   "cell_type": "code",
   "execution_count": 1,
   "metadata": {},
   "outputs": [
    {
     "name": "stderr",
     "output_type": "stream",
     "text": [
      "/vol/bitbucket/yn621/envs/bnn_prior/lib/python3.7/site-packages/tqdm/auto.py:21: TqdmWarning: IProgress not found. Please update jupyter and ipywidgets. See https://ipywidgets.readthedocs.io/en/stable/user_install.html\n",
      "  from .autonotebook import tqdm as notebook_tqdm\n"
     ]
    }
   ],
   "source": [
    "import os\n",
    "import matplotlib.pyplot as plt\n",
    "import json\n",
    "from glob import glob\n",
    "import numpy as np\n",
    "from pathlib import Path\n",
    "import h5py\n",
    "from tqdm import tqdm\n",
    "import scipy.stats\n",
    "import torch\n",
    "import seaborn as sns\n",
    "\n",
    "import bnn_priors.plot as plot\n",
    "import bnn_priors.exp_utils as exp_utils\n",
    "\n",
    "sns.set(style=\"white\", context=\"paper\", font_scale=1.5)"
   ]
  },
  {
   "cell_type": "code",
   "execution_count": 2,
   "metadata": {},
   "outputs": [],
   "source": [
    "def mean_stderr_temp(metrics, mask, temp_group):\n",
    "    temps = metrics[temp_group][\"all\"][mask]\n",
    "    mean = np.mean(temps)\n",
    "    stderr = np.std(temps)\n",
    "    return mean, stderr"
   ]
  },
  {
   "cell_type": "code",
   "execution_count": 3,
   "metadata": {},
   "outputs": [],
   "source": [
    "def weighted_mean_stderr_temp(metrics, mask, sizes, temp_group):\n",
    "    keys = list(metrics[temp_group].keys())\n",
    "    keys.remove(\"all\")\n",
    "    temps = np.stack([metrics[temp_group][k][mask] for k in keys], axis=1)\n",
    "    weights = np.array([sizes[k] for k in keys])\n",
    "    mean, stderr = plot.weighted_var_se(weights, temps)\n",
    "    return mean, stderr"
   ]
  },
  {
   "cell_type": "code",
   "execution_count": 4,
   "metadata": {},
   "outputs": [
    {
     "name": "stderr",
     "output_type": "stream",
     "text": [
      "  0%|          | 0/4 [00:00<?, ?it/s]"
     ]
    },
    {
     "name": "stdout",
     "output_type": "stream",
     "text": [
      "model depth: 50 model width: 3\n"
     ]
    },
    {
     "name": "stderr",
     "output_type": "stream",
     "text": [
      " 25%|██▌       | 1/4 [00:02<00:07,  2.47s/it]"
     ]
    },
    {
     "name": "stdout",
     "output_type": "stream",
     "text": [
      "model depth: 50 model width: 3\n"
     ]
    },
    {
     "name": "stderr",
     "output_type": "stream",
     "text": [
      " 50%|█████     | 2/4 [00:05<00:05,  2.72s/it]"
     ]
    },
    {
     "name": "stdout",
     "output_type": "stream",
     "text": [
      "model depth: 50 model width: 3\n"
     ]
    },
    {
     "name": "stderr",
     "output_type": "stream",
     "text": [
      " 75%|███████▌  | 3/4 [00:07<00:02,  2.67s/it]"
     ]
    },
    {
     "name": "stdout",
     "output_type": "stream",
     "text": [
      "model depth: 50 model width: 3\n"
     ]
    },
    {
     "name": "stderr",
     "output_type": "stream",
     "text": [
      "100%|██████████| 4/4 [00:10<00:00,  2.59s/it]\n"
     ]
    }
   ],
   "source": [
    "# choose your experiment name here\n",
    "exp_name = \"exp_cifar10_depth50_width3_lr0.01_warmup45_cycles60_scale0\"\n",
    "\n",
    "selected_priors = [\"gaussian\"] # [\"gaussian\", \"convcorrnormal\", \"laplace\", \"student-t\"]\n",
    "\n",
    "skip = 10\n",
    "\n",
    "# we again assume you saved it in ../results/, otherwise change that here\n",
    "metrics_files = glob(f\"/data2/users/yn621/cold-posterior-cnn/results/{exp_name}/*/metrics.h5\")\n",
    "\n",
    "colors = sns.color_palette(\"cubehelix\", n_colors=7)\n",
    "temps = [0.001, 0.01, 0.1, 1]\n",
    "\n",
    "cmap = {temp: col for temp, col in zip(temps, colors)}\n",
    "\n",
    "means_est = {str(temp) : [] for temp in temps}\n",
    "stderrs_est = {str(temp) : [] for temp in temps}\n",
    "means_conf = {str(temp) : [] for temp in temps}\n",
    "stderrs_conf = {str(temp) : [] for temp in temps}\n",
    "\n",
    "for metrics_file in tqdm(metrics_files):\n",
    "\n",
    "    log_dir = Path(os.path.dirname(metrics_file))\n",
    "\n",
    "    with open(log_dir/\"config.json\", \"r\") as f:\n",
    "        config = json.load(f)\n",
    "\n",
    "    if config[\"weight_prior\"] not in selected_priors:\n",
    "        continue\n",
    "\n",
    "    device = torch.device(\"cpu\")  # can be CUDA instead\n",
    "    data = exp_utils.get_data(config[\"data\"], device)\n",
    "    model = exp_utils.get_model(x_train=data.norm.train_X, y_train=data.norm.train_y,\n",
    "                                **{k: v for k, v in config.items() if k in set((\n",
    "                                    \"model\",\n",
    "                                    \"width\", \"depth\", \"weight_prior\", \"weight_loc\", \"weight_scale\",\n",
    "                                    \"bias_prior\", \"bias_loc\", \"bias_scale\", \"batchnorm\",\n",
    "                                    \"weight_prior_params\", \"bias_prior_params\"))})\n",
    "\n",
    "    sizes = plot.get_sizes(model)\n",
    "\n",
    "    metrics = h5py.File(metrics_file, \"r\", swmr=True)\n",
    "\n",
    "    mask = np.where(metrics[\"lr\"][:] == np.nanmin(metrics[\"lr\"][:]))\n",
    "    mask = mask[::skip]\n",
    "\n",
    "    mean, stderr = weighted_mean_stderr_temp(metrics, mask, sizes, \"est_temperature\")\n",
    "    means_est[str(config[\"temperature\"])].extend(mean)\n",
    "    stderrs_est[str(config[\"temperature\"])].extend(stderr)\n",
    "\n",
    "    mean, stderr = weighted_mean_stderr_temp(metrics, mask, sizes, \"est_config_temp\")\n",
    "    means_conf[str(config[\"temperature\"])].extend(mean)\n",
    "    stderrs_conf[str(config[\"temperature\"])].extend(stderr)\n"
   ]
  },
  {
   "cell_type": "code",
   "execution_count": 5,
   "metadata": {},
   "outputs": [
    {
     "name": "stderr",
     "output_type": "stream",
     "text": [
      "/vol/bitbucket/yn621/envs/bnn_prior/lib/python3.7/site-packages/ipykernel_launcher.py:38: UserWarning: Attempted to set non-positive bottom ylim on a log-scaled axis.\n",
      "Invalid limit will be ignored.\n"
     ]
    },
    {
     "data": {
      "image/png": "[encoded data removed]",
      "text/plain": [
       "<Figure size 1000x400 with 3 Axes>"
      ]
     },
     "metadata": {},
     "output_type": "display_data"
    }
   ],
   "source": [
    "fig, axes = plt.subplots(2, 2, figsize=(10, 4))\n",
    "\n",
    "gs = axes[0,0].get_gridspec()\n",
    "axes[0,0].remove()\n",
    "axes[1,0].remove()\n",
    "\n",
    "axkin = fig.add_subplot(gs[:, 0])\n",
    "axconf_top = axes[0,1]\n",
    "axconf_bot = axes[1,1]\n",
    "\n",
    "\n",
    "for temp in temps:\n",
    "    means = np.array(means_est[str(temp)])\n",
    "    stderrs = np.array(stderrs_est[str(temp)])\n",
    "    axkin.plot(np.arange(len(means)), [temp]*len(means), linestyle=\"--\", color=cmap[temp])\n",
    "    sns.lineplot(x=np.arange(len(means)), y=means, label=temp, color=cmap[temp], ax=axkin)\n",
    "    axkin.fill_between(means-stderrs, means+stderrs)\n",
    "\n",
    "for temp in temps[:3]:\n",
    "    means = np.array(means_conf[str(temp)])\n",
    "    stderrs = np.array(stderrs_conf[str(temp)])\n",
    "    axconf_bot.plot(np.arange(len(means)), [temp]*len(means), linestyle=\"--\", color=cmap[temp])\n",
    "    sns.lineplot(x=np.arange(len(means)), y=means, color=cmap[temp], ax=axconf_bot)\n",
    "    axconf_bot.fill_between(means-stderrs, means+stderrs)\n",
    "\n",
    "for temp in temps[3:]:\n",
    "    means = np.array(means_conf[str(temp)])\n",
    "    stderrs = np.array(stderrs_conf[str(temp)])\n",
    "    axconf_top.plot(np.arange(len(means)), [temp]*len(means), linestyle=\"--\", color=cmap[temp])\n",
    "    sns.lineplot(x=np.arange(len(means)), y=means, color=cmap[temp], ax=axconf_top)\n",
    "    axconf_top.fill_between(means-stderrs, means+stderrs)\n",
    "\n",
    "\n",
    "axkin.set_yscale(\"log\")\n",
    "axkin.legend(loc=\"upper right\")\n",
    "axkin.set_ylabel(\"kinetic temperature\")\n",
    "axkin.set_xlabel(\"runs\")\n",
    "axkin.set_ylim(0,2)\n",
    "axkin.set_xticklabels([])\n",
    "\n",
    "axconf_bot.set_xlabel(\"runs\")\n",
    "axconf_bot.set_xticklabels([])\n",
    "\n",
    "axconf_top.set_xticklabels([])\n",
    "\n",
    "fig.text(0.52, 0.55, 'configurational temperature', va='center', rotation='vertical')\n",
    "\n",
    "fig.tight_layout(w_pad=3.)\n",
    "\n",
    "fig.savefig(f\"../figures/{exp_name}_temperature_diagnostics.pdf\")"
   ]
  },
  {
   "cell_type": "code",
   "execution_count": null,
   "metadata": {},
   "outputs": [],
   "source": []
  }
 ],
 "metadata": {
  "kernelspec": {
   "display_name": "Python 3",
   "language": "python",
   "name": "python3"
  },
  "language_info": {
   "codemirror_mode": {
    "name": "ipython",
    "version": 3
   },
   "file_extension": ".py",
   "mimetype": "text/x-python",
   "name": "python",
   "nbconvert_exporter": "python",
   "pygments_lexer": "ipython3",
   "version": "3.7.6"
  }
 },
 "nbformat": 4,
 "nbformat_minor": 4
}
